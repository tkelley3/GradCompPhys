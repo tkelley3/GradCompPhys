{
 "cells": [
  {
   "cell_type": "markdown",
   "metadata": {},
   "source": [
    "# Importance Sampling\n",
    "Solving the integral $$I = \\int_0^1 x^2 dx$$ drawing from the probability distribution $P(x)=x$, remembering to normalize this between 0 and 1. $$\\int_0^1 C x dx =1 \\rightarrow C = 2$$\n",
    "We now draw from this normalized probability distribution using a transformation $F^{-1}(x)$:\n",
    "$$F(x) = \\int 2x dx = x^2$$\n",
    "$$F^{-1}(x) = \\sqrt{x}$$\n"
   ]
  },
  {
   "cell_type": "code",
   "execution_count": 3,
   "metadata": {
    "scrolled": true
   },
   "outputs": [
    {
     "name": "stdout",
     "output_type": "stream",
     "text": [
      "0.3330140020382147 0.00031933129511863\n"
     ]
    }
   ],
   "source": [
    "import numpy as np\n",
    "import matplotlib.pyplot as pyp\n",
    "import math as mth\n",
    "N = 100000\n",
    "a=1\n",
    "r = np.random.random(N)\n",
    "p = np.sqrt(r)\n",
    "Int = sum(p)/(2*len(p))\n",
    "Err = abs(Int-1/3)\n",
    "print(Int, Err)"
   ]
  },
  {
   "cell_type": "markdown",
   "metadata": {},
   "source": [
    "For the integral $$\\int_0^1 \\sqrt{x} dx$$ sampling from the probability distribution "
   ]
  }
 ],
 "metadata": {
  "kernelspec": {
   "display_name": "Python 3",
   "language": "python",
   "name": "python3"
  },
  "language_info": {
   "codemirror_mode": {
    "name": "ipython",
    "version": 3
   },
   "file_extension": ".py",
   "mimetype": "text/x-python",
   "name": "python",
   "nbconvert_exporter": "python",
   "pygments_lexer": "ipython3",
   "version": "3.6.7"
  }
 },
 "nbformat": 4,
 "nbformat_minor": 2
}
